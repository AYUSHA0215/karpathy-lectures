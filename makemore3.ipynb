{
 "cells": [
  {
   "cell_type": "code",
   "execution_count": 95,
   "id": "6a65df27-683b-4a82-9c40-53481f2fb706",
   "metadata": {},
   "outputs": [],
   "source": [
    "import torch\n",
    "import torch.nn.functional as F\n",
    "import matplotlib.pyplot as plt\n",
    "%matplotlib inline"
   ]
  },
  {
   "cell_type": "code",
   "execution_count": 96,
   "id": "8914c61d-d9d4-4670-9316-9780c32127bb",
   "metadata": {},
   "outputs": [
    {
     "data": {
      "text/plain": [
       "['emma', 'olivia', 'ava', 'isabella', 'sophia', 'charlotte', 'mia', 'amelia']"
      ]
     },
     "execution_count": 96,
     "metadata": {},
     "output_type": "execute_result"
    }
   ],
   "source": [
    "# read in all the words\n",
    "words = open('names.txt', 'r').read().splitlines()\n",
    "words[:8]"
   ]
  },
  {
   "cell_type": "code",
   "execution_count": 97,
   "id": "f582e0a9-a6db-42f9-ad4c-dcc870778334",
   "metadata": {},
   "outputs": [
    {
     "data": {
      "text/plain": [
       "32033"
      ]
     },
     "execution_count": 97,
     "metadata": {},
     "output_type": "execute_result"
    }
   ],
   "source": [
    "len(words)"
   ]
  },
  {
   "cell_type": "code",
   "execution_count": 98,
   "id": "b8c3c845-82dc-4479-80ed-dc07d35fda04",
   "metadata": {},
   "outputs": [
    {
     "name": "stdout",
     "output_type": "stream",
     "text": [
      "{1: 'a', 2: 'b', 3: 'c', 4: 'd', 5: 'e', 6: 'f', 7: 'g', 8: 'h', 9: 'i', 10: 'j', 11: 'k', 12: 'l', 13: 'm', 14: 'n', 15: 'o', 16: 'p', 17: 'q', 18: 'r', 19: 's', 20: 't', 21: 'u', 22: 'v', 23: 'w', 24: 'x', 25: 'y', 26: 'z', 0: '.'}\n",
      "27\n"
     ]
    }
   ],
   "source": [
    "# build vocab of char and mappings to/from integers\n",
    "chars = sorted(list(set(''.join(words))))\n",
    "stoi = {s:i+1 for i,s in enumerate(chars)}\n",
    "stoi['.'] = 0\n",
    "itos = {i:s for s,i in stoi.items()}\n",
    "vocab_size = len(itos)\n",
    "print(itos)\n",
    "print(vocab_size)"
   ]
  },
  {
   "cell_type": "code",
   "execution_count": 99,
   "id": "294603f5-3f33-4e49-96fa-d8914b9efe45",
   "metadata": {},
   "outputs": [
    {
     "name": "stdout",
     "output_type": "stream",
     "text": [
      "torch.Size([182625, 3]) torch.Size([182625])\n",
      "torch.Size([22655, 3]) torch.Size([22655])\n",
      "torch.Size([22866, 3]) torch.Size([22866])\n"
     ]
    }
   ],
   "source": [
    "# build ds new\n",
    "block_size = 3\n",
    "\n",
    "def build_dataset(words):\n",
    "    \n",
    "    X, Y = [], []\n",
    "    \n",
    "    for w in words:\n",
    "        #print w\n",
    "        context = [0] * block_size\n",
    "        for ch in w + '.':\n",
    "            ix = stoi[ch] \n",
    "            X.append(context)\n",
    "            Y.append(ix)\n",
    "            # print(''.join(itos[i] for i in context), '--->', itos[ix])\n",
    "            context = context[1:] + [ix]\n",
    "\n",
    "    X = torch.tensor(X)\n",
    "    Y = torch.tensor(Y)\n",
    "    print(X.shape, Y.shape)\n",
    "    return X, Y\n",
    "\n",
    "import random\n",
    "random.seed(42)\n",
    "random.shuffle(words)\n",
    "n1 = int(.8*len(words))\n",
    "n2 = int(.9*len(words))\n",
    "\n",
    "Xtr, Ytr = build_dataset(words[:n1])\n",
    "Xdev, Ydev = build_dataset(words[n1:n2])\n",
    "Xte, Yte = build_dataset(words[n2:])"
   ]
  },
  {
   "cell_type": "code",
   "execution_count": 100,
   "id": "e52d2102-7b1e-4458-a41e-a2654353bb90",
   "metadata": {},
   "outputs": [
    {
     "name": "stdout",
     "output_type": "stream",
     "text": [
      "12297\n"
     ]
    }
   ],
   "source": [
    "n_embd = 10\n",
    "n_hidden = 200\n",
    "\n",
    "g = torch.Generator().manual_seed(2147483647)\n",
    "C = torch.randn((vocab_size,n_embd),generator=g)\n",
    "W1 = torch.randn((n_embd*block_size,n_hidden), generator=g) * (5/3)/((n_embd*block_size)**.5)\n",
    "# b1 = torch.randn(n_hidden, generator=g) * 0.01\n",
    "W2 = torch.randn((n_hidden, vocab_size), generator=g) * .01\n",
    "b2 = torch.randn(vocab_size, generator=g) * 0\n",
    "\n",
    "bngain = torch.ones((1, n_hidden))\n",
    "bnbias = torch.zeros((1, n_hidden))\n",
    "bnmean_running = torch.zeros((1, n_hidden))\n",
    "bnstd_running = torch.ones((1,n_hidden))\n",
    "\n",
    "parameters = [C, W1, b1, W2, b2, bngain, bnbias]\n",
    "\n",
    "print(sum(p.nelement() for p in parameters))\n",
    "for p in parameters:\n",
    "    p.requires_grad = True"
   ]
  },
  {
   "cell_type": "code",
   "execution_count": 101,
   "id": "17971f20-f242-42a7-b18d-8f549eff147f",
   "metadata": {},
   "outputs": [
    {
     "name": "stdout",
     "output_type": "stream",
     "text": [
      "tensor(-0.0036) tensor(1.0047)\n",
      "tensor(0.0006) tensor(1.0011)\n"
     ]
    },
    {
     "data": {
      "text/plain": [
       "(array([4.82785423e-05, 4.82785423e-05, 7.24178135e-05, 1.68974898e-04,\n",
       "        1.68974898e-04, 4.82785423e-04, 8.44874491e-04, 1.23110283e-03,\n",
       "        2.24495222e-03, 3.33121942e-03, 5.28650039e-03, 8.69013762e-03,\n",
       "        1.28179530e-02, 1.91424420e-02, 2.80739724e-02, 4.10126217e-02,\n",
       "        6.04688743e-02, 8.90739106e-02, 1.19175582e-01, 1.63567701e-01,\n",
       "        2.15346438e-01, 2.67414846e-01, 3.29621748e-01, 3.68341139e-01,\n",
       "        4.09595153e-01, 4.27192682e-01, 4.19299140e-01, 3.82993676e-01,\n",
       "        3.39349874e-01, 2.86171060e-01, 2.29033405e-01, 1.76651186e-01,\n",
       "        1.29458911e-01, 9.27672191e-02, 6.64312743e-02, 4.47300695e-02,\n",
       "        3.07292922e-02, 2.04459627e-02, 1.33248777e-02, 8.27977001e-03,\n",
       "        5.62445018e-03, 3.35535869e-03, 2.31737003e-03, 1.40007773e-03,\n",
       "        1.08626720e-03, 3.13810525e-04, 3.37949796e-04, 1.93114169e-04,\n",
       "        4.82785423e-05, 4.82785423e-05]),\n",
       " array([-5.30474472, -5.09761336, -4.89048201, -4.68335065, -4.47621929,\n",
       "        -4.26908793, -4.06195658, -3.85482522, -3.64769386, -3.44056251,\n",
       "        -3.23343115, -3.02629979, -2.81916843, -2.61203708, -2.40490572,\n",
       "        -2.19777436, -1.99064301, -1.78351165, -1.57638029, -1.36924893,\n",
       "        -1.16211758, -0.95498622, -0.74785486, -0.54072351, -0.33359215,\n",
       "        -0.12646079,  0.08067057,  0.28780192,  0.49493328,  0.70206464,\n",
       "         0.909196  ,  1.11632735,  1.32345871,  1.53059007,  1.73772142,\n",
       "         1.94485278,  2.15198414,  2.3591155 ,  2.56624685,  2.77337821,\n",
       "         2.98050957,  3.18764092,  3.39477228,  3.60190364,  3.809035  ,\n",
       "         4.01616635,  4.22329771,  4.43042907,  4.63756042,  4.84469178,\n",
       "         5.05182314]),\n",
       " <BarContainer object of 50 artists>)"
      ]
     },
     "execution_count": 101,
     "metadata": {},
     "output_type": "execute_result"
    },
    {
     "data": {
      "image/png": "[encoded data removed]",
      "text/plain": [
       "<Figure size 2000x500 with 2 Axes>"
      ]
     },
     "metadata": {},
     "output_type": "display_data"
    }
   ],
   "source": [
    "x = torch.randn(1000, 10)\n",
    "w = torch.randn(10, 200) / 10**0.5\n",
    "y = x @ w\n",
    "print(x.mean(), x.std())\n",
    "print(y.mean(), y.std())\n",
    "plt.figure(figsize=(20,5))\n",
    "plt.subplot(121)\n",
    "plt.hist(x.view(-1).tolist(), 50, density=True)\n",
    "plt.subplot(122)\n",
    "plt.hist(y.view(-1).tolist(), 50, density=True)"
   ]
  },
  {
   "cell_type": "code",
   "execution_count": 102,
   "id": "1a93c9e8-73d7-4efa-a9c3-2c48f413210a",
   "metadata": {},
   "outputs": [
    {
     "data": {
      "text/plain": [
       "torch.Size([1, 200])"
      ]
     },
     "execution_count": 102,
     "metadata": {},
     "output_type": "execute_result"
    }
   ],
   "source": [
    "hpreact.std(0, keepdim=True).shape"
   ]
  },
  {
   "cell_type": "code",
   "execution_count": 106,
   "id": "231f23e5-0ca4-43b7-8ce6-eaf98e6b1f8c",
   "metadata": {},
   "outputs": [
    {
     "name": "stdout",
     "output_type": "stream",
     "text": [
      "      0/ 200000: 3.3013\n",
      "  10000/ 200000: 2.0035\n",
      "  20000/ 200000: 2.0043\n",
      "  30000/ 200000: 2.0937\n",
      "  40000/ 200000: 2.2616\n",
      "  50000/ 200000: 2.1408\n",
      "  60000/ 200000: 2.0564\n",
      "  70000/ 200000: 2.3588\n",
      "  80000/ 200000: 2.3619\n",
      "  90000/ 200000: 2.2137\n",
      " 100000/ 200000: 2.3094\n",
      " 110000/ 200000: 1.8927\n",
      " 120000/ 200000: 2.2329\n",
      " 130000/ 200000: 2.0224\n",
      " 140000/ 200000: 1.7848\n",
      " 150000/ 200000: 2.3820\n",
      " 160000/ 200000: 2.2525\n",
      " 170000/ 200000: 1.7767\n",
      " 180000/ 200000: 1.9479\n",
      " 190000/ 200000: 2.2804\n"
     ]
    }
   ],
   "source": [
    "max_steps = 200000\n",
    "batch_size = 32\n",
    "lossi = []\n",
    "\n",
    "for i in range(max_steps):\n",
    "\n",
    "    #choose minibatch\n",
    "    ix = torch.randint(0,Xtr.shape[0],(batch_size,), generator=g)\n",
    "    Xb, Yb = Xtr[ix], Ytr[ix]\n",
    "    \n",
    "    # forward pass\n",
    "    emb = C[Xb]\n",
    "    embcat = emb.view(emb.shape[0], -1)\n",
    "    hpreact = embcat @ W1 #+ b1\n",
    "    bnmeani = hpreact.mean(0, keepdim=True)\n",
    "    bnstdi = hpreact.std(0, keepdim=True)\n",
    "    hpreact = bngain * (hpreact - bnmeani) /  bnstdi + bnbias\n",
    "\n",
    "    with torch.no_grad():\n",
    "        bnmean_running = 0.999 * bnmean_running + 0.001 + bnmeani\n",
    "        bnstd_running = 0.999 * bnstd_running + 0.001 + bnstdi\n",
    "    \n",
    "    h = torch.tanh(hpreact)\n",
    "    logits = h @ W2 + b2\n",
    "    loss = F.cross_entropy(logits, Yb)\n",
    "    # print(loss.item())\n",
    "    \n",
    "    #backward pass\n",
    "    for p in parameters:\n",
    "        p.grad = None\n",
    "    loss.backward()\n",
    "    \n",
    "    # update\n",
    "    lr = 0.1 if i < 100000 else 0.01\n",
    "    for p in parameters:\n",
    "        p.data += -lr * p.grad\n",
    "\n",
    "    # # track stats\n",
    "    # lri.append(lre[i])\n",
    "    if i % 10000 == 0:\n",
    "        print(f'{i:7d}/{max_steps:7d}: {loss.item():.4f}')\n",
    "    lossi.append(loss.log10().item())\n",
    "    "
   ]
  },
  {
   "cell_type": "code",
   "execution_count": 108,
   "id": "604d8ef9-f239-4682-b695-5428a8a73e2d",
   "metadata": {},
   "outputs": [
    {
     "data": {
      "text/plain": [
       "[<matplotlib.lines.Line2D at 0x1572c7410>]"
      ]
     },
     "execution_count": 108,
     "metadata": {},
     "output_type": "execute_result"
    },
    {
     "data": {
      "image/png": "[encoded data removed]",
      "text/plain": [
       "<Figure size 640x480 with 1 Axes>"
      ]
     },
     "metadata": {},
     "output_type": "display_data"
    }
   ],
   "source": [
    "plt.plot(lossi)"
   ]
  },
  {
   "cell_type": "code",
   "execution_count": 109,
   "id": "891f4494-363b-4e79-b529-5b278c6b8320",
   "metadata": {},
   "outputs": [],
   "source": [
    "with torch.no_grad():\n",
    "    emb = C[Xtr]\n",
    "    embcat = emb.view(emb.shape[0], -1)\n",
    "    hpreact = embcat @ W1 + b1\n",
    "    #measure mean/std over entire training set\n",
    "    bnmean = hpreact.mean(0, keepdim=True)\n",
    "    bnstd = hpreact.std(0, keepdim=True)"
   ]
  },
  {
   "cell_type": "code",
   "execution_count": 110,
   "id": "46a21b01-b333-41ef-b9cd-12353c36d327",
   "metadata": {},
   "outputs": [
    {
     "data": {
      "text/plain": [
       "tensor([[-2.3635,  0.6516, -0.9296,  1.0131,  1.1148,  1.1065,  1.7500, -2.0866,\n",
       "          0.5698,  1.4275, -1.5499, -2.7530, -0.4690, -0.1472, -0.1063, -1.1543,\n",
       "          0.6656, -2.6034, -0.1506,  1.6345, -0.7456, -0.3437,  0.0470,  0.5823,\n",
       "          1.1275,  0.3645,  2.0326,  0.5844,  0.8224,  1.7610, -0.3324, -0.8291,\n",
       "         -0.0850, -0.5156, -0.3988, -1.1034, -0.1101,  0.3484, -0.4990,  0.9976,\n",
       "         -0.3881, -1.3014, -0.2705, -0.2132,  0.7647,  0.7007,  2.0737, -0.7674,\n",
       "          2.3829,  1.8815,  0.8523,  0.3098,  1.8865,  0.4628,  0.6292, -1.9025,\n",
       "         -0.0333,  0.4174,  1.3721, -0.9021, -0.4495,  1.1715,  0.5747,  0.6060,\n",
       "          1.5892,  1.1536, -1.0216,  2.1587, -0.6779,  0.0361, -0.1987, -0.4753,\n",
       "          1.0020, -1.0565, -2.9942,  0.6890,  1.4534, -0.1633,  0.0985,  0.5329,\n",
       "          0.2373,  1.2848,  2.0482,  0.6390,  0.0567, -0.0821, -1.6929,  0.2850,\n",
       "          2.2502, -0.0412, -0.6559,  1.3990, -0.7817, -1.2099, -1.0455,  0.2252,\n",
       "          0.1931, -0.3624,  0.1089, -0.6151,  0.1720,  0.1263, -1.4601,  0.2505,\n",
       "          0.1967, -0.3546, -0.3354, -0.2071,  0.9556, -0.7679,  0.6855,  0.2453,\n",
       "          0.3829,  1.2249,  2.8787,  2.0784,  0.8711,  0.8849,  0.3701, -0.3455,\n",
       "         -1.0829, -1.4754,  0.4141,  1.1691, -1.0843,  0.0831, -0.2063, -0.5291,\n",
       "         -0.8369, -1.0881,  2.7911, -1.2840,  0.6496,  1.9768,  0.9591,  1.0657,\n",
       "         -0.7198,  1.8237,  0.1656,  0.4601,  1.6184, -0.1836,  1.9689,  0.2907,\n",
       "          0.4708,  0.2302,  1.1979, -0.6870,  0.2511,  0.5651, -1.5580, -0.2177,\n",
       "          1.7450,  1.2622,  1.0107, -0.5214,  1.4030, -1.6493,  0.0195,  0.4462,\n",
       "          0.5739, -0.4052,  0.9174, -1.1876, -0.4728, -0.7216, -0.3136, -0.5105,\n",
       "         -2.1658, -0.1183,  1.1343, -2.1549,  0.1329, -0.8953, -1.0455,  0.8984,\n",
       "          1.2774, -0.7604,  1.2685, -1.5101,  1.7734,  1.0205,  0.8052, -0.7333,\n",
       "          0.3858,  0.0823, -0.9819,  0.0961,  1.8991,  0.9156, -0.4766,  1.6320,\n",
       "         -0.7597,  0.1986,  0.1215,  1.2970,  1.7914, -0.8073,  0.2699,  1.2023]])"
      ]
     },
     "execution_count": 110,
     "metadata": {},
     "output_type": "execute_result"
    }
   ],
   "source": [
    "bnmean"
   ]
  },
  {
   "cell_type": "code",
   "execution_count": 111,
   "id": "eafbf8a9-8e48-4011-b1de-52c1278e695b",
   "metadata": {},
   "outputs": [
    {
     "data": {
      "text/plain": [
       "tensor([[-2381.7114,   663.4859,  -915.9488,  1013.2762,  1118.1995,  1099.7924,\n",
       "          1747.1198, -2099.8787,   557.7137,  1407.0436, -1559.5509, -2756.2568,\n",
       "          -479.7011,  -156.6145,   -99.4074, -1136.9192,   670.3088, -2620.3826,\n",
       "          -171.2685,  1626.0884,  -747.4895,  -322.2625,    46.2025,   582.9344,\n",
       "          1129.3679,   365.8648,  2037.5718,   579.0071,   821.4774,  1766.9208,\n",
       "          -342.9186,  -832.3282,   -82.0577,  -517.3491,  -400.1114, -1102.1641,\n",
       "          -109.3012,   337.5453,  -494.6134,  1003.5934,  -395.1337, -1323.8179,\n",
       "          -271.5294,  -208.7676,   768.5798,   710.5267,  2072.6787,  -781.5112,\n",
       "          2378.7559,  1871.5153,   839.3883,   304.9386,  1877.4996,   463.7908,\n",
       "           622.5020, -1903.9689,   -34.2271,   419.2205,  1389.8218,  -900.3580,\n",
       "          -464.9986,  1165.5068,   569.0396,   602.3599,  1589.9160,  1138.5370,\n",
       "         -1026.9972,  2153.9138,  -669.5683,    49.9804,  -204.7609,  -471.9937,\n",
       "           990.1809, -1023.7226, -2986.0010,   677.1733,  1461.0648,  -160.1290,\n",
       "           100.0765,   524.0858,   236.2216,  1274.0323,  2021.6349,   649.4376,\n",
       "            64.0116,   -86.4204, -1696.3387,   290.3195,  2246.8235,   -29.9713,\n",
       "          -655.8341,  1409.4766,  -783.2554, -1216.1520, -1051.7863,   223.2651,\n",
       "           174.4380,  -365.6896,   106.1155,  -599.9201,   167.5624,   118.3428,\n",
       "         -1465.6375,   238.6766,   211.4114,  -342.3642,  -327.1517,  -198.1765,\n",
       "           966.5477,  -787.9913,   683.3246,   255.2940,   369.5465,  1234.2494,\n",
       "          2861.8149,  2066.2754,   859.0907,   884.8828,   373.6248,  -335.1808,\n",
       "         -1093.5618, -1467.7086,   405.2398,  1179.8030, -1082.1412,    84.5638,\n",
       "          -215.6853,  -526.0006,  -827.1201, -1081.5701,  2790.4961, -1278.4896,\n",
       "           649.4841,  1981.6366,   975.6713,  1073.6387,  -721.6717,  1808.9491,\n",
       "           176.9335,   481.1578,  1633.5594,  -188.8711,  1972.9995,   296.6086,\n",
       "           463.8811,   230.9113,  1200.6233,  -688.3905,   253.6266,   563.6045,\n",
       "         -1555.1516,  -207.2887,  1753.3610,  1265.7004,  1000.5795,  -520.4557,\n",
       "          1406.6746, -1644.0861,    26.7766,   439.0758,   563.1342,  -384.9505,\n",
       "           913.6994, -1175.7950,  -480.6667,  -724.2031,  -300.8031,  -512.1371,\n",
       "         -2154.1465,  -110.7114,  1124.7054, -2161.1414,   131.7383,  -885.3710,\n",
       "         -1045.6384,   906.6901,  1273.1821,  -747.7386,  1262.6376, -1514.7313,\n",
       "          1758.5720,  1023.7707,   801.1349,  -733.1281,   381.1845,    77.2738,\n",
       "          -987.2809,    93.5494,  1913.5751,   908.6002,  -468.0579,  1639.0271,\n",
       "          -778.3975,   191.1489,   140.3515,  1284.9834,  1796.0985,  -791.9047,\n",
       "           257.6519,  1199.5046]])"
      ]
     },
     "execution_count": 111,
     "metadata": {},
     "output_type": "execute_result"
    }
   ],
   "source": [
    "bnmean_running"
   ]
  },
  {
   "cell_type": "code",
   "execution_count": 115,
   "id": "82358603-f6a7-4679-b5c7-4902ba356a41",
   "metadata": {},
   "outputs": [
    {
     "name": "stdout",
     "output_type": "stream",
     "text": [
      "train 3.8019614219665527\n",
      "val 3.8113465309143066\n"
     ]
    }
   ],
   "source": [
    "@torch.no_grad()\n",
    "\n",
    "def split_loss(split):\n",
    "    x, y = {\n",
    "        'train': (Xtr, Ytr),\n",
    "        'val': (Xdev, Ydev),\n",
    "        'test': (Xte, Yte),\n",
    "    }[split]\n",
    "    emb = C[x]\n",
    "    embcat = emb.view(emb.shape[0], -1)\n",
    "    hpreact = embcat @ W1 + b1\n",
    "    hpreact = bngain * (hpreact - bnmean_running) / bnstd_running + bnbias\n",
    "    h = torch.tanh(hpreact)\n",
    "    logits = h @ W2 + b2\n",
    "    loss = F.cross_entropy(logits, y)\n",
    "    print(split, loss.item())\n",
    "\n",
    "split_loss('train')\n",
    "split_loss('val')"
   ]
  },
  {
   "cell_type": "code",
   "execution_count": 114,
   "id": "858a0318-5c8b-46cd-bbf1-2cfd9be1e9e7",
   "metadata": {},
   "outputs": [
    {
     "name": "stderr",
     "output_type": "stream",
     "text": [
      "/var/folders/bm/w5ljn4r530zfg63nrr7c4kq40000gp/T/ipykernel_94064/647882742.py:14: UserWarning: std(): degrees of freedom is <= 0. Correction should be strictly less than the reduction factor (input numel divided by output numel). (Triggered internally at /Users/runner/work/pytorch/pytorch/pytorch/aten/src/ATen/native/ReduceOps.cpp:1760.)\n",
      "  hpreact = bngain * ((hpreact - hpreact.mean(0, keepdim=True)) / hpreact.std(0, keepdim=True)) + bnbias\n"
     ]
    },
    {
     "ename": "RuntimeError",
     "evalue": "probability tensor contains either `inf`, `nan` or element < 0",
     "output_type": "error",
     "traceback": [
      "\u001b[0;31m---------------------------------------------------------------------------\u001b[0m",
      "\u001b[0;31mRuntimeError\u001b[0m                              Traceback (most recent call last)",
      "Cell \u001b[0;32mIn[114], line 18\u001b[0m\n\u001b[1;32m     16\u001b[0m logits \u001b[38;5;241m=\u001b[39m h \u001b[38;5;241m@\u001b[39m W2 \u001b[38;5;241m+\u001b[39m b2\n\u001b[1;32m     17\u001b[0m probs \u001b[38;5;241m=\u001b[39m F\u001b[38;5;241m.\u001b[39msoftmax(logits, dim\u001b[38;5;241m=\u001b[39m\u001b[38;5;241m1\u001b[39m)\n\u001b[0;32m---> 18\u001b[0m ix \u001b[38;5;241m=\u001b[39m torch\u001b[38;5;241m.\u001b[39mmultinomial(probs, num_samples\u001b[38;5;241m=\u001b[39m\u001b[38;5;241m1\u001b[39m, generator\u001b[38;5;241m=\u001b[39mg)\u001b[38;5;241m.\u001b[39mitem()\n\u001b[1;32m     19\u001b[0m context \u001b[38;5;241m=\u001b[39m context[\u001b[38;5;241m1\u001b[39m:] \u001b[38;5;241m+\u001b[39m [ix]\n\u001b[1;32m     20\u001b[0m out\u001b[38;5;241m.\u001b[39mappend(ix)\n",
      "\u001b[0;31mRuntimeError\u001b[0m: probability tensor contains either `inf`, `nan` or element < 0"
     ]
    }
   ],
   "source": [
    "# sample from model\n",
    "\n",
    "g = torch.Generator().manual_seed(2147483647 + 10)\n",
    "\n",
    "for _ in range(20):\n",
    "\n",
    "    out = []\n",
    "    \n",
    "    context = [0] * block_size\n",
    "    while True:\n",
    "        emb = C[torch.tensor([context])]\n",
    "        embcat = emb.view(emb.shape[0], -1)\n",
    "        hpreact = embcat @ W1 + b1\n",
    "        hpreact = bngain * ((hpreact - hpreact.mean(0, keepdim=True)) / hpreact.std(0, keepdim=True)) + bnbias\n",
    "        h = torch.tanh(hpreact)\n",
    "        logits = h @ W2 + b2\n",
    "        probs = F.softmax(logits, dim=1)\n",
    "        ix = torch.multinomial(probs, num_samples=1, generator=g).item()\n",
    "        context = context[1:] + [ix]\n",
    "        out.append(ix)\n",
    "        if ix == 0:\n",
    "            break\n",
    "\n",
    "    print(''.join(itos[i] for i in out))"
   ]
  },
  {
   "cell_type": "code",
   "execution_count": null,
   "id": "e1bd23be-325c-4227-8df1-5fd50060bfcb",
   "metadata": {},
   "outputs": [],
   "source": []
  },
  {
   "cell_type": "code",
   "execution_count": null,
   "id": "97a770a9-26ca-45c9-93fa-32da1b518794",
   "metadata": {},
   "outputs": [],
   "source": []
  },
  {
   "cell_type": "code",
   "execution_count": 122,
   "id": "2acca642-eaba-446e-834c-b2387a29c238",
   "metadata": {},
   "outputs": [],
   "source": [
    "# cleaned up"
   ]
  },
  {
   "cell_type": "code",
   "execution_count": 125,
   "id": "3f71a89d-2cba-43ac-aa6e-1b5c396aafae",
   "metadata": {},
   "outputs": [
    {
     "ename": "AttributeError",
     "evalue": "'BatchNorm1d' object has no attribute 'beta'",
     "output_type": "error",
     "traceback": [
      "\u001b[0;31m---------------------------------------------------------------------------\u001b[0m",
      "\u001b[0;31mAttributeError\u001b[0m                            Traceback (most recent call last)",
      "Cell \u001b[0;32mIn[125], line 80\u001b[0m\n\u001b[1;32m     77\u001b[0m         \u001b[38;5;28;01mif\u001b[39;00m \u001b[38;5;28misinstance\u001b[39m(layer, Linear):\n\u001b[1;32m     78\u001b[0m             layer\u001b[38;5;241m.\u001b[39mweight \u001b[38;5;241m*\u001b[39m\u001b[38;5;241m=\u001b[39m \u001b[38;5;241m5\u001b[39m\u001b[38;5;241m/\u001b[39m\u001b[38;5;241m3\u001b[39m\n\u001b[0;32m---> 80\u001b[0m parameters \u001b[38;5;241m=\u001b[39m [C] \u001b[38;5;241m+\u001b[39m [p \u001b[38;5;28;01mfor\u001b[39;00m layer \u001b[38;5;129;01min\u001b[39;00m layers \u001b[38;5;28;01mfor\u001b[39;00m p \u001b[38;5;129;01min\u001b[39;00m layer\u001b[38;5;241m.\u001b[39mparameters()]\n\u001b[1;32m     81\u001b[0m \u001b[38;5;28mprint\u001b[39m(\u001b[38;5;28msum\u001b[39m(p\u001b[38;5;241m.\u001b[39mnelement() \u001b[38;5;28;01mfor\u001b[39;00m p \u001b[38;5;129;01min\u001b[39;00m parameters)) \u001b[38;5;66;03m# num of param in total\u001b[39;00m\n\u001b[1;32m     82\u001b[0m \u001b[38;5;28;01mfor\u001b[39;00m p \u001b[38;5;129;01min\u001b[39;00m parameters:\n",
      "Cell \u001b[0;32mIn[125], line 80\u001b[0m, in \u001b[0;36m<listcomp>\u001b[0;34m(.0)\u001b[0m\n\u001b[1;32m     77\u001b[0m         \u001b[38;5;28;01mif\u001b[39;00m \u001b[38;5;28misinstance\u001b[39m(layer, Linear):\n\u001b[1;32m     78\u001b[0m             layer\u001b[38;5;241m.\u001b[39mweight \u001b[38;5;241m*\u001b[39m\u001b[38;5;241m=\u001b[39m \u001b[38;5;241m5\u001b[39m\u001b[38;5;241m/\u001b[39m\u001b[38;5;241m3\u001b[39m\n\u001b[0;32m---> 80\u001b[0m parameters \u001b[38;5;241m=\u001b[39m [C] \u001b[38;5;241m+\u001b[39m [p \u001b[38;5;28;01mfor\u001b[39;00m layer \u001b[38;5;129;01min\u001b[39;00m layers \u001b[38;5;28;01mfor\u001b[39;00m p \u001b[38;5;129;01min\u001b[39;00m layer\u001b[38;5;241m.\u001b[39mparameters()]\n\u001b[1;32m     81\u001b[0m \u001b[38;5;28mprint\u001b[39m(\u001b[38;5;28msum\u001b[39m(p\u001b[38;5;241m.\u001b[39mnelement() \u001b[38;5;28;01mfor\u001b[39;00m p \u001b[38;5;129;01min\u001b[39;00m parameters)) \u001b[38;5;66;03m# num of param in total\u001b[39;00m\n\u001b[1;32m     82\u001b[0m \u001b[38;5;28;01mfor\u001b[39;00m p \u001b[38;5;129;01min\u001b[39;00m parameters:\n",
      "Cell \u001b[0;32mIn[125], line 49\u001b[0m, in \u001b[0;36mBatchNorm1d.parameters\u001b[0;34m(self)\u001b[0m\n\u001b[1;32m     48\u001b[0m \u001b[38;5;28;01mdef\u001b[39;00m \u001b[38;5;21mparameters\u001b[39m(\u001b[38;5;28mself\u001b[39m):\n\u001b[0;32m---> 49\u001b[0m     \u001b[38;5;28;01mreturn\u001b[39;00m [\u001b[38;5;28mself\u001b[39m\u001b[38;5;241m.\u001b[39mgamma, \u001b[38;5;28mself\u001b[39m\u001b[38;5;241m.\u001b[39mbeta]\n",
      "\u001b[0;31mAttributeError\u001b[0m: 'BatchNorm1d' object has no attribute 'beta'"
     ]
    }
   ],
   "source": [
    "# training deeper network\n",
    "class Linear:\n",
    "\n",
    "    def __init__(self, fan_in, fan_out, bias=True):\n",
    "\n",
    "        self.weight = torch.randn((fan_in, fan_out), generator=g) / fan_in**0.5\n",
    "        self.bias = torch.zeros(fan_out) if bias else None\n",
    "\n",
    "    def __call__(self,x):\n",
    "        self.out = x @ self.weight\n",
    "        if self.bias is not None:\n",
    "            self.out += self.bias\n",
    "        return self.out\n",
    "\n",
    "    def parameters(self):\n",
    "        return [self.weight] + ([] if self.bias is None else [self.bias])\n",
    "\n",
    "class BatchNorm1d:\n",
    "\n",
    "    def __init__(self, dim, eps=1e-5, momentum=0.1):\n",
    "        self.eps = eps\n",
    "        self.momentum = momentum\n",
    "        self.training = True\n",
    "        #params - trained w backprop\n",
    "        self.gamma = torch.ones(dim)\n",
    "        self.bata = torch.zeros(dim)\n",
    "        #buffers\n",
    "        self.running_mean = torch.zeros(dim)\n",
    "        self.running_var = torch.ones(dim)\n",
    "\n",
    "    def __call__(self, x):\n",
    "        #calc forward pass\n",
    "        if self.training:\n",
    "            xmean = x.mean(0, keepdim=True) #batch mean\n",
    "            xvar = x.var(0, keepdim=True, unbiased=True) #batch var\n",
    "        else:\n",
    "            xmean = self.running_mean\n",
    "            xvar = self.running_var\n",
    "        xhat = (x-xmean)/torch.sqrt(xvar + self.eps) # normalize to unit vectors\n",
    "        self.out = self.gamma * xhat + self.beta\n",
    "        # update buffers\n",
    "        if self.training:\n",
    "            with torch.no_grad():\n",
    "                self.running_mean = (1-self.momentum) * self.running_mean + self.momentum * xmean\n",
    "                self.running_var = (1-self.momentum) * self.running_var + self.momentum * xvar\n",
    "        return self.out\n",
    "\n",
    "    def parameters(self):\n",
    "        return [self.gamma, self.beta]\n",
    "\n",
    "class Tanh:\n",
    "    def __call__(self,x):\n",
    "        self.out = torch.tanh(x)\n",
    "        return self.out\n",
    "    def parameters(self):\n",
    "        return []\n",
    "\n",
    "n_embd = 10 # dim of char embedding vectors\n",
    "n_hidden = 100 # dim of neurosn in hidden layer of MLP\n",
    "g = torch.Generator().manual_seed(2147483647)\n",
    "\n",
    "C = torch.randn((vocab_size, n_embd), generator=g)\n",
    "layers = [\n",
    "    Linear(n_embd * block_size, n_hidden), BatchNorm1d(n_hidden), Tanh(),\n",
    "    Linear(           n_hidden, n_hidden), BatchNorm1d(n_hidden), Tanh(),\n",
    "    Linear(           n_hidden, n_hidden), BatchNorm1d(n_hidden), Tanh(),\n",
    "    Linear(           n_hidden, n_hidden), BatchNorm1d(n_hidden), Tanh(),\n",
    "    Linear(           n_hidden, n_hidden), BatchNorm1d(n_hidden), Tanh(),\n",
    "    Linear(           n_hidden, vocab_size), BatchNorm1d(vocab_size),\n",
    "]\n",
    "\n",
    "with torch.no_grad():\n",
    "    # last layer: make less confident\n",
    "    layers[-1].gamma *= 0.1\n",
    "    # all other layers: apply gain\n",
    "    for layer in layers[:-1]:\n",
    "        if isinstance(layer, Linear):\n",
    "            layer.weight *= 5/3\n",
    "\n",
    "parameters = [C] + [p for layer in layers for p in layer.parameters()]\n",
    "print(sum(p.nelement() for p in parameters)) # num of param in total\n",
    "for p in parameters:\n",
    "    p.requires_grad = True"
   ]
  },
  {
   "cell_type": "code",
   "execution_count": 126,
   "id": "cf8ff4d7-ce3c-48b0-ad39-fe58d0e3c46b",
   "metadata": {},
   "outputs": [
    {
     "ename": "AttributeError",
     "evalue": "'BatchNorm1d' object has no attribute 'beta'",
     "output_type": "error",
     "traceback": [
      "\u001b[0;31m---------------------------------------------------------------------------\u001b[0m",
      "\u001b[0;31mAttributeError\u001b[0m                            Traceback (most recent call last)",
      "Cell \u001b[0;32mIn[126], line 18\u001b[0m\n\u001b[1;32m     16\u001b[0m x \u001b[38;5;241m=\u001b[39m emb\u001b[38;5;241m.\u001b[39mview(emb\u001b[38;5;241m.\u001b[39mshape[\u001b[38;5;241m0\u001b[39m], \u001b[38;5;241m-\u001b[39m\u001b[38;5;241m1\u001b[39m)\n\u001b[1;32m     17\u001b[0m \u001b[38;5;28;01mfor\u001b[39;00m layer \u001b[38;5;129;01min\u001b[39;00m layers:\n\u001b[0;32m---> 18\u001b[0m     x \u001b[38;5;241m=\u001b[39m layer(x)\n\u001b[1;32m     19\u001b[0m loss \u001b[38;5;241m=\u001b[39m F\u001b[38;5;241m.\u001b[39mcross_entropy(x, Yb) \u001b[38;5;66;03m#loss fn\u001b[39;00m\n\u001b[1;32m     21\u001b[0m \u001b[38;5;66;03m# backward pass\u001b[39;00m\n",
      "Cell \u001b[0;32mIn[125], line 40\u001b[0m, in \u001b[0;36mBatchNorm1d.__call__\u001b[0;34m(self, x)\u001b[0m\n\u001b[1;32m     38\u001b[0m     xvar \u001b[38;5;241m=\u001b[39m \u001b[38;5;28mself\u001b[39m\u001b[38;5;241m.\u001b[39mrunning_var\n\u001b[1;32m     39\u001b[0m xhat \u001b[38;5;241m=\u001b[39m (x\u001b[38;5;241m-\u001b[39mxmean)\u001b[38;5;241m/\u001b[39mtorch\u001b[38;5;241m.\u001b[39msqrt(xvar \u001b[38;5;241m+\u001b[39m \u001b[38;5;28mself\u001b[39m\u001b[38;5;241m.\u001b[39meps) \u001b[38;5;66;03m# normalize to unit vectors\u001b[39;00m\n\u001b[0;32m---> 40\u001b[0m \u001b[38;5;28mself\u001b[39m\u001b[38;5;241m.\u001b[39mout \u001b[38;5;241m=\u001b[39m \u001b[38;5;28mself\u001b[39m\u001b[38;5;241m.\u001b[39mgamma \u001b[38;5;241m*\u001b[39m xhat \u001b[38;5;241m+\u001b[39m \u001b[38;5;28mself\u001b[39m\u001b[38;5;241m.\u001b[39mbeta\n\u001b[1;32m     41\u001b[0m \u001b[38;5;66;03m# update buffers\u001b[39;00m\n\u001b[1;32m     42\u001b[0m \u001b[38;5;28;01mif\u001b[39;00m \u001b[38;5;28mself\u001b[39m\u001b[38;5;241m.\u001b[39mtraining:\n",
      "\u001b[0;31mAttributeError\u001b[0m: 'BatchNorm1d' object has no attribute 'beta'"
     ]
    }
   ],
   "source": [
    "# same optimization\n",
    "\n",
    "max_steps = 200000\n",
    "batch_size = 32\n",
    "lossi = []\n",
    "ud = []\n",
    "\n",
    "for i in range(max_steps):\n",
    "\n",
    "    # minibatch constrcut\n",
    "    ix = torch.randint(0, Xtr.shape[0], (batch_size,), generator=g)\n",
    "    Xb, Yb = Xtr[ix], Ytr[ix] #batch X, Y\n",
    "\n",
    "    # forward pass\n",
    "    emb = C[Xb]\n",
    "    x = emb.view(emb.shape[0], -1)\n",
    "    for layer in layers:\n",
    "        x = layer(x)\n",
    "    loss = F.cross_entropy(x, Yb) #loss fn\n",
    "\n",
    "    # backward pass\n",
    "    for layer in layers:\n",
    "        layer.out.retain_grad() \n",
    "    for p in parameters:\n",
    "        p.grad = None\n",
    "    loss.backward()\n",
    "\n",
    "    #update\n",
    "    lr = 0.1 if i < 100000 else 0.01\n",
    "    for p in parameters:\n",
    "        p.data += -lr * p.grad\n",
    "\n",
    "    #trackstats \n",
    "    if i % 100 == 0:\n",
    "        print(f'{i:7d}/{max_steps:7d}: {loss.item():.4f}')\n",
    "    lossi.append(loss.log10().item())\n",
    "    with torch.no_grad():\n",
    "        ud.append([(lr*p.grad.std() / p.data.std()).log().item() for p in parameters])\n",
    "\n",
    "    if i >= 1000:\n",
    "        break"
   ]
  },
  {
   "cell_type": "code",
   "execution_count": null,
   "id": "5ab4c738-d8d0-472a-9f85-38bd4fa9720d",
   "metadata": {},
   "outputs": [],
   "source": []
  },
  {
   "cell_type": "code",
   "execution_count": null,
   "id": "6cc1e3f3-7c54-4daa-a83d-a941023b3084",
   "metadata": {},
   "outputs": [],
   "source": []
  },
  {
   "cell_type": "code",
   "execution_count": null,
   "id": "4eaefb78-f32c-45e8-a283-73bb1286b92a",
   "metadata": {},
   "outputs": [],
   "source": []
  },
  {
   "cell_type": "code",
   "execution_count": null,
   "id": "b27b56dc-c3a1-445e-b2b9-8a633dd2000c",
   "metadata": {},
   "outputs": [],
   "source": []
  },
  {
   "cell_type": "code",
   "execution_count": null,
   "id": "9c934dee-ea77-44b9-aed7-b8c924095303",
   "metadata": {},
   "outputs": [],
   "source": []
  }
 ],
 "metadata": {
  "kernelspec": {
   "display_name": "Python 3 (ipykernel)",
   "language": "python",
   "name": "python3"
  },
  "language_info": {
   "codemirror_mode": {
    "name": "ipython",
    "version": 3
   },
   "file_extension": ".py",
   "mimetype": "text/x-python",
   "name": "python",
   "nbconvert_exporter": "python",
   "pygments_lexer": "ipython3",
   "version": "3.11.7"
  }
 },
 "nbformat": 4,
 "nbformat_minor": 5
}
